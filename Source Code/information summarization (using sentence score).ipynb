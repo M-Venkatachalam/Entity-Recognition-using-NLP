{
 "cells": [
  {
   "cell_type": "code",
   "execution_count": 1,
   "id": "caea6143",
   "metadata": {},
   "outputs": [],
   "source": [
    "from nltk.corpus import stopwords\n",
    "from nltk.tokenize import word_tokenize, sent_tokenize"
   ]
  },
  {
   "cell_type": "code",
   "execution_count": 2,
   "id": "ccc2bddd",
   "metadata": {},
   "outputs": [],
   "source": [
    "text = \"\"\"If you feel groggy in the morning and pass yawns around the office, there’s a chance an overload of screen time before bed may be affecting your sleep quality. \n",
    "According to the New York Times, “smartphone and tablet screens set off brain receptors that are designed to keep you awake and interferes with circadian sleep patterns.” In other words, your tech is keeping you awake longer and making it harder to fall asleep. \n",
    "Surprisingly, the same New York Times study found that insomnia costs $2,280 in lost productivity per American worker every year.  So by taking a mini digital detox from tech on a daily basis, you will not only feel recharged every day, but you’ll see a boost in your productivity levels at work! \n",
    "To help teach smartphone users how to do a digital detox and cut back on their screen time, Google and Apple recently added a feature to their phones that allows you to track how often and how long you’re using your phone. This new feature gives you a visual report on how much time you spend on certain apps and even how many times per day you pick up your phone. With new features such as “do not disturb mode” and being able to set a time limit for certain apps, you’ll be on your way to a digital detox in no time\"\"\""
   ]
  },
  {
   "cell_type": "code",
   "execution_count": 3,
   "id": "85d28a43",
   "metadata": {},
   "outputs": [],
   "source": [
    "stopwords = set (stopwords.words(\"english\"))\n",
    "words = word_tokenize(text)\n",
    "freqTable = dict()"
   ]
  },
  {
   "cell_type": "code",
   "execution_count": 6,
   "id": "fbf0c1c6",
   "metadata": {},
   "outputs": [],
   "source": [
    "for word in words:\n",
    "    word = word.lower()\n",
    "    if word in stopwords:\n",
    "        continue\n",
    "    if word in freqTable:\n",
    "        freqTable[word]+=1\n",
    "    else:\n",
    "        freqTable[word]=1\n"
   ]
  },
  {
   "cell_type": "code",
   "execution_count": 13,
   "id": "64343051",
   "metadata": {},
   "outputs": [
    {
     "data": {
      "text/plain": [
       "{'feel': 2,\n",
       " 'groggy': 1,\n",
       " 'morning': 1,\n",
       " 'pass': 1,\n",
       " 'yawns': 1,\n",
       " 'around': 1,\n",
       " 'office': 1,\n",
       " ',': 8,\n",
       " '’': 4,\n",
       " 'chance': 1,\n",
       " 'overload': 1,\n",
       " 'screen': 2,\n",
       " 'time': 5,\n",
       " 'bed': 1,\n",
       " 'may': 1,\n",
       " 'affecting': 1,\n",
       " 'sleep': 2,\n",
       " 'quality': 1,\n",
       " '.': 5,\n",
       " 'according': 1,\n",
       " 'new': 4,\n",
       " 'york': 2,\n",
       " 'times': 3,\n",
       " '“': 2,\n",
       " 'smartphone': 2,\n",
       " 'tablet': 1,\n",
       " 'screens': 1,\n",
       " 'set': 2,\n",
       " 'brain': 1,\n",
       " 'receptors': 1,\n",
       " 'designed': 1,\n",
       " 'keep': 1,\n",
       " 'awake': 2,\n",
       " 'interferes': 1,\n",
       " 'circadian': 1,\n",
       " 'patterns.': 1,\n",
       " '”': 2,\n",
       " 'words': 1,\n",
       " 'tech': 2,\n",
       " 'keeping': 1,\n",
       " 'longer': 1,\n",
       " 'making': 1,\n",
       " 'harder': 1,\n",
       " 'fall': 1,\n",
       " 'asleep': 1,\n",
       " 'surprisingly': 1,\n",
       " 'study': 1,\n",
       " 'found': 1,\n",
       " 'insomnia': 1,\n",
       " 'costs': 1,\n",
       " '$': 1,\n",
       " '2,280': 1,\n",
       " 'lost': 1,\n",
       " 'productivity': 2,\n",
       " 'per': 2,\n",
       " 'american': 1,\n",
       " 'worker': 1,\n",
       " 'every': 2,\n",
       " 'year': 1,\n",
       " 'taking': 1,\n",
       " 'mini': 1,\n",
       " 'digital': 3,\n",
       " 'detox': 3,\n",
       " 'daily': 1,\n",
       " 'basis': 1,\n",
       " 'recharged': 1,\n",
       " 'day': 2,\n",
       " 'see': 1,\n",
       " 'boost': 1,\n",
       " 'levels': 1,\n",
       " 'work': 1,\n",
       " '!': 1,\n",
       " 'help': 1,\n",
       " 'teach': 1,\n",
       " 'users': 1,\n",
       " 'cut': 1,\n",
       " 'back': 1,\n",
       " 'google': 1,\n",
       " 'apple': 1,\n",
       " 'recently': 1,\n",
       " 'added': 1,\n",
       " 'feature': 2,\n",
       " 'phones': 1,\n",
       " 'allows': 1,\n",
       " 'track': 1,\n",
       " 'often': 1,\n",
       " 'long': 1,\n",
       " 'using': 1,\n",
       " 'phone': 2,\n",
       " 'gives': 1,\n",
       " 'visual': 1,\n",
       " 'report': 1,\n",
       " 'much': 1,\n",
       " 'spend': 1,\n",
       " 'certain': 2,\n",
       " 'apps': 2,\n",
       " 'even': 1,\n",
       " 'many': 1,\n",
       " 'pick': 1,\n",
       " 'features': 1,\n",
       " 'disturb': 1,\n",
       " 'mode': 1,\n",
       " 'able': 1,\n",
       " 'limit': 1,\n",
       " 'way': 1}"
      ]
     },
     "execution_count": 13,
     "metadata": {},
     "output_type": "execute_result"
    }
   ],
   "source": [
    "freqTable"
   ]
  },
  {
   "cell_type": "code",
   "execution_count": 8,
   "id": "4322bea3",
   "metadata": {},
   "outputs": [],
   "source": [
    "sentences = sent_tokenize(text)\n",
    "sentenceValue = dict()"
   ]
  },
  {
   "cell_type": "code",
   "execution_count": 9,
   "id": "d6f9a559",
   "metadata": {},
   "outputs": [
    {
     "data": {
      "text/plain": [
       "['If you feel groggy in the morning and pass yawns around the office, there’s a chance an overload of screen time before bed may be affecting your sleep quality.',\n",
       " 'According to the New York Times, “smartphone and tablet screens set off brain receptors that are designed to keep you awake and interferes with circadian sleep patterns.” In other words, your tech is keeping you awake longer and making it harder to fall asleep.',\n",
       " 'Surprisingly, the same New York Times study found that insomnia costs $2,280 in lost productivity per American worker every year.',\n",
       " 'So by taking a mini digital detox from tech on a daily basis, you will not only feel recharged every day, but you’ll see a boost in your productivity levels at work!',\n",
       " 'To help teach smartphone users how to do a digital detox and cut back on their screen time, Google and Apple recently added a feature to their phones that allows you to track how often and how long you’re using your phone.',\n",
       " 'This new feature gives you a visual report on how much time you spend on certain apps and even how many times per day you pick up your phone.',\n",
       " 'With new features such as “do not disturb mode” and being able to set a time limit for certain apps, you’ll be on your way to a digital detox in no time']"
      ]
     },
     "execution_count": 9,
     "metadata": {},
     "output_type": "execute_result"
    }
   ],
   "source": [
    "sentences"
   ]
  },
  {
   "cell_type": "code",
   "execution_count": 11,
   "id": "fa505531",
   "metadata": {},
   "outputs": [],
   "source": [
    "for sentence in sentences:\n",
    "    for word, freq in freqTable.items():\n",
    "        if word in sentence.lower():\n",
    "            if sentence in sentenceValue:\n",
    "                sentenceValue[sentence]+= freq\n",
    "            else:\n",
    "                sentenceValue[sentence]=freq"
   ]
  },
  {
   "cell_type": "code",
   "execution_count": 12,
   "id": "5e655204",
   "metadata": {},
   "outputs": [
    {
     "data": {
      "text/plain": [
       "{'If you feel groggy in the morning and pass yawns around the office, there’s a chance an overload of screen time before bed may be affecting your sleep quality.': 40,\n",
       " 'According to the New York Times, “smartphone and tablet screens set off brain receptors that are designed to keep you awake and interferes with circadian sleep patterns.” In other words, your tech is keeping you awake longer and making it harder to fall asleep.': 64,\n",
       " 'Surprisingly, the same New York Times study found that insomnia costs $2,280 in lost productivity per American worker every year.': 45,\n",
       " 'So by taking a mini digital detox from tech on a daily basis, you will not only feel recharged every day, but you’ll see a boost in your productivity levels at work!': 38,\n",
       " 'To help teach smartphone users how to do a digital detox and cut back on their screen time, Google and Apple recently added a feature to their phones that allows you to track how often and how long you’re using your phone.': 51,\n",
       " 'This new feature gives you a visual report on how much time you spend on certain apps and even how many times per day you pick up your phone.': 37,\n",
       " 'With new features such as “do not disturb mode” and being able to set a time limit for certain apps, you’ll be on your way to a digital detox in no time': 45}"
      ]
     },
     "execution_count": 12,
     "metadata": {},
     "output_type": "execute_result"
    }
   ],
   "source": [
    "sentenceValue"
   ]
  },
  {
   "cell_type": "code",
   "execution_count": 14,
   "id": "3e7f1606",
   "metadata": {},
   "outputs": [],
   "source": [
    "sumValues = 0\n",
    "for sentence in sentenceValue:\n",
    "    sumValues += sentenceValue[sentence]\n",
    "average = int(sumValues / len(sentenceValue))"
   ]
  },
  {
   "cell_type": "code",
   "execution_count": 18,
   "id": "6c4203c2",
   "metadata": {},
   "outputs": [
    {
     "name": "stdout",
     "output_type": "stream",
     "text": [
      " According to the New York Times, “smartphone and tablet screens set off brain receptors that are designed to keep you awake and interferes with circadian sleep patterns.” In other words, your tech is keeping you awake longer and making it harder to fall asleep.\n"
     ]
    }
   ],
   "source": [
    "summary =''\n",
    "for sentence in sentences:\n",
    "    if (sentence in sentenceValue) and (sentenceValue[sentence]>(1.2*average)):\n",
    "        summary += \" \"+sentence\n",
    "print(summary)"
   ]
  }
 ],
 "metadata": {
  "kernelspec": {
   "display_name": "Python 3 (ipykernel)",
   "language": "python",
   "name": "python3"
  },
  "language_info": {
   "codemirror_mode": {
    "name": "ipython",
    "version": 3
   },
   "file_extension": ".py",
   "mimetype": "text/x-python",
   "name": "python",
   "nbconvert_exporter": "python",
   "pygments_lexer": "ipython3",
   "version": "3.9.7"
  }
 },
 "nbformat": 4,
 "nbformat_minor": 5
}
